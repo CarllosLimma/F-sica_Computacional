{
  "nbformat": 4,
  "nbformat_minor": 0,
  "metadata": {
    "colab": {
      "name": "MetododeNewton.ipynb",
      "provenance": [],
      "collapsed_sections": [],
      "authorship_tag": "ABX9TyPB7r7znRQmIuf7owr3nkAW",
      "include_colab_link": true
    },
    "kernelspec": {
      "name": "python3",
      "display_name": "Python 3"
    },
    "language_info": {
      "name": "python"
    }
  },
  "cells": [
    {
      "cell_type": "markdown",
      "metadata": {
        "id": "view-in-github",
        "colab_type": "text"
      },
      "source": [
        "<a href=\"https://colab.research.google.com/github/CarllosLimma/F-sica_Computacional/blob/main/MetododeNewton.ipynb\" target=\"_parent\"><img src=\"https://colab.research.google.com/assets/colab-badge.svg\" alt=\"Open In Colab\"/></a>"
      ]
    },
    {
      "cell_type": "code",
      "metadata": {
        "colab": {
          "base_uri": "https://localhost:8080/"
        },
        "id": "Uao_zaLHB9Gc",
        "outputId": "640706c1-fce3-4081-d7a2-064123b6398d"
      },
      "source": [
        "''''''''''''''''''''''''''''''''''''''''''''''''''''''''''''''''''''''''''''' ''\n",
        "Universidade Federal de Goiás (Ufg)\n",
        "Autor           : Carlos Eduardo da Silva Lima\n",
        "Cálculo Numérico: Método de Newton\n",
        "Diciplina       : Física Computacional e Cálculo Numérico\n",
        "Data            : 23/07/2021  \n",
        "Linguagem       : Python\n",
        "IDE             : Google Colaboratory   \n",
        "''''''''''''''''''''''''''''''''''''''''''''''''''''''''''''''''''''''''''''' ''\n",
        "\n",
        "print(\"\\n\\n\\t\\t************ Método de Newton ************ \\n\\n\")\n",
        "\n",
        "# Inportando bibliotecas externa\n",
        "import numpy as np\n",
        "import matplotlib.pyplot as plt\n",
        "import math as m\n",
        "plt.style.use('dark_background')\n",
        "\n",
        "\n",
        "# Chute inicial e tolerância eps\n",
        "x0  = 2\n",
        "eps = 1*m.pow(10,-6)\n",
        "\n",
        "''''''''''''''''''''''''''''''''''''''''''''''''''''''''''''''''''''''''''''' ''\n",
        "''''''''''''''''''''''''''''''''''''''''''''''''''''''''''''''''''''''''''''' ''\n",
        "#               Entre com as funções f(x) e derivada df(x) {df(x) = df(x)/dx}\n",
        "\n",
        "# Função f(x)\n",
        "def f(x):\n",
        "  return ( x- m.cos(x) )\n",
        "\n",
        "# Derivada da f(x) acima inserida\n",
        "def df(x):\n",
        "  return ( 1 + m.sin(x) )\n",
        "\n",
        "''''''''''''''''''''''''''''''''''''''''''''''''''''''''''''''''''''''''''''' ''\n",
        "''''''''''''''''''''''''''''''''''''''''''''''''''''''''''''''''''''''''''''' ''\n",
        "#               Algoritimo para o método de Newton\n",
        "\n",
        "xk = x0 - f(x0)/df(x0)\n",
        "er = np.abs(xk - x0)/np.abs(xk)\n",
        "\n",
        "k = 0\n",
        "while er > eps:\n",
        "\n",
        "  x0 = xk\n",
        "  xk = x0 - f(x0)/df(x0)\n",
        "  er = np.abs(xk - x0)/np.abs(xk)\n",
        "\n",
        "  k = k + 1 # Contador para as iterações\n",
        "\n",
        "  # Saída\n",
        "  print(\"(\",k,\")\",\" x = \",xk,\" || er = \",er)\n",
        "\n",
        "#Fim do While\n"
      ],
      "execution_count": null,
      "outputs": [
        {
          "output_type": "stream",
          "text": [
            "\n",
            "\n",
            "\t\t************ Método de Newton ************ \n",
            "\n",
            "\n",
            "( 1 )  x =  0.7390897242053693  || er =  0.006161031877153921\n",
            "( 2 )  x =  0.7390851332198145  || er =  6.211714115842628e-06\n",
            "( 3 )  x =  0.7390851332151607  || er =  6.296748054420571e-12\n"
          ],
          "name": "stdout"
        }
      ]
    }
  ]
}