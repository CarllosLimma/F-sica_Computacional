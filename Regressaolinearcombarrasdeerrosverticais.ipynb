{
  "nbformat": 4,
  "nbformat_minor": 0,
  "metadata": {
    "colab": {
      "name": "Regressaolinearcombarrasdeerrosverticais.ipynb",
      "provenance": [],
      "collapsed_sections": [],
      "authorship_tag": "ABX9TyNODZMwGbbm0fqi3koSG6F4",
      "include_colab_link": true
    },
    "kernelspec": {
      "name": "python3",
      "display_name": "Python 3"
    },
    "language_info": {
      "name": "python"
    }
  },
  "cells": [
    {
      "cell_type": "markdown",
      "metadata": {
        "id": "view-in-github",
        "colab_type": "text"
      },
      "source": [
        "<a href=\"https://colab.research.google.com/github/CarllosLimma/F-sica_Computacional/blob/main/Regressaolinearcombarrasdeerrosverticais.ipynb\" target=\"_parent\"><img src=\"https://colab.research.google.com/assets/colab-badge.svg\" alt=\"Open In Colab\"/></a>"
      ]
    },
    {
      "cell_type": "code",
      "metadata": {
        "colab": {
          "base_uri": "https://localhost:8080/",
          "height": 625
        },
        "id": "2fpvtKJKNGjE",
        "outputId": "9f930b66-aca6-4afd-9732-83728ac4c602"
      },
      "source": [
        "'''\n",
        "Universidade Federal de Goiás - UFG\n",
        "Instituto de Física - IF\n",
        "Carlos Eduardo da Silva Lima\n",
        "Laboratório de Física III\n",
        "Regressão linear com barras de erros verticais\n",
        "'''\n",
        "# Importando bibliotecas \n",
        "import numpy as np\n",
        "import matplotlib .pyplot as plt\n",
        "import math\n",
        "\n",
        "# Entre com a quantidade de dados coletados no laboratório (Ou cálculada)\n",
        "n = 5\n",
        "\n",
        "# Variável indepedente mdedida no laboratório\n",
        "x = np.array ([0.1, 0.3, 0.9, 1.2, 1.5])\n",
        "\n",
        "# Variável depedente medida no laboratório (Ou cálculada)\n",
        "y = np.array ([10.84211, 21.05263, 31.55263, 42.34211, 52.97368])\n",
        "\n",
        "#Barras de Erros\n",
        "barras_de_erros = np.array([1, 2, 2, 4, 5]) # <------------------ Isira os valores para as barras de erros\n",
        "\n",
        "# Cálculo da média\n",
        "sx = 0 # soma de x\n",
        "sy = 0 # soma de y\n",
        "sxy = 0# soma do produlto de x*y\n",
        "sxx = 0# soma do produlto de x*x\n",
        "\n",
        "for i in range(0,n):\n",
        "\n",
        "    sx += x[i]\n",
        "    sy += y[i]\n",
        "    sxy += x[i]*y[i]\n",
        "    sxx += pow(x[i],2)\n",
        "\n",
        "print('\\nMedia dos valores de x')\n",
        "print(sx/n) # Saída para a média dos valores de x\n",
        "\n",
        "print()\n",
        "print('Media dos valores de y')\n",
        "\n",
        "print(sy/n) # Saída para a média dos valores de y\n",
        "\n",
        "''' Calculo para as constantes da reta de regressão Linear A, B, erroA, erroB e erroY'''\n",
        "\n",
        "# Cálculo do delta\n",
        "delta = n*sxx - pow(sx,2)\n",
        "print('\\ndelta = {}'.format(delta))\n",
        "\n",
        "# Cálculo do coeficiente Linear\n",
        "A = (sxx*sy - sx*sxy)/delta\n",
        "print('\\nA = {}'.format(A))\n",
        "\n",
        "# Cálculo do coeficiente ângular\n",
        "B = (n*sxy - sx*sy)/delta\n",
        "print('\\nB = {}'.format(B))\n",
        "\n",
        "# Erros associados aos parâmetros A, B entre outros\n",
        "\n",
        "# ErroY\n",
        "sp = 0\n",
        "for i in range(0,n):\n",
        "    sp += pow(y[i] - A - B*x[i],2)\n",
        "\n",
        "k0 = sp/(n-2)\n",
        "sigY = pow(k0,0.5)\n",
        "print(\"\\nErro associado a Y: ErroY = {}\".format(sigY))\n",
        "\n",
        "# ErroA\n",
        "sigA = sigY*pow(sxx/delta,0.5)\n",
        "print(\"\\nErro associado a A: ErroA =  {}\".format(A))\n",
        "\n",
        "# ErroB\n",
        "k1 = n*pow(delta,-1)\n",
        "sigB = sigY*pow(k1,0.5)\n",
        "print(\"\\nErro associado a B: ErroB =  {}\".format(sigB))\n",
        "\n",
        "# reta de regressão Linear\n",
        "s = B*x + A \n",
        "\n",
        "# Gráfico da reta de regressão linear\n",
        "plt.plot(x, y, 'o', label='R x 1/A', markersize=5)\n",
        "plt.plot(x, s, 'g', label='Reta de Regressão Linear')\n",
        "plt.errorbar(x, y, barras_de_erros, fmt='ro', ecolor='black', linestyle=None, capsize=2, label='Pontos experimental') # <------------------ Plotar as barras de erros\n",
        "plt.legend()\n",
        "plt.show()\n",
        "print('\\n')\n",
        "print('Fim')\n",
        "#print('O resulta da soma e: {}'.format())"
      ],
      "execution_count": 1,
      "outputs": [
        {
          "output_type": "stream",
          "text": [
            "\n",
            "Media dos valores de x\n",
            "0.8\n",
            "\n",
            "Media dos valores de y\n",
            "31.752632\n",
            "\n",
            "delta = 7.0\n",
            "\n",
            "A = 9.433837142857133\n",
            "\n",
            "B = 27.898493571428567\n",
            "\n",
            "Erro associado a Y: ErroY = 2.8631902641530336\n",
            "\n",
            "Erro associado a A: ErroA =  9.433837142857133\n",
            "\n",
            "Erro associado a B: ErroB =  2.4198374338462014\n"
          ],
          "name": "stdout"
        },
        {
          "output_type": "display_data",
          "data": {
            "image/png": "[encoded data removed]",
            "text/plain": [
              "<Figure size 432x288 with 1 Axes>"
            ]
          },
          "metadata": {
            "tags": [],
            "needs_background": "light"
          }
        },
        {
          "output_type": "stream",
          "text": [
            "\n",
            "\n",
            "Fim\n"
          ],
          "name": "stdout"
        }
      ]
    }
  ]
}