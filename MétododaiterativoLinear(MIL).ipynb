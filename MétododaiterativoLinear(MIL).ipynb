{
  "nbformat": 4,
  "nbformat_minor": 0,
  "metadata": {
    "colab": {
      "name": "MétododaiterativoLinear(MIL).ipynb",
      "provenance": [],
      "collapsed_sections": [],
      "authorship_tag": "ABX9TyMDMBLiBGTYdYWT2KrQ5UP9",
      "include_colab_link": true
    },
    "kernelspec": {
      "name": "python3",
      "display_name": "Python 3"
    },
    "language_info": {
      "name": "python"
    }
  },
  "cells": [
    {
      "cell_type": "markdown",
      "metadata": {
        "id": "view-in-github",
        "colab_type": "text"
      },
      "source": [
        "<a href=\"https://colab.research.google.com/github/CarllosLimma/F-sica_Computacional/blob/main/M%C3%A9tododaiterativoLinear(MIL).ipynb\" target=\"_parent\"><img src=\"https://colab.research.google.com/assets/colab-badge.svg\" alt=\"Open In Colab\"/></a>"
      ]
    },
    {
      "cell_type": "code",
      "metadata": {
        "colab": {
          "base_uri": "https://localhost:8080/"
        },
        "id": "l0sXoYGvwarR",
        "outputId": "1caf842c-c2fc-4ba5-908b-c40952f9eb01"
      },
      "source": [
        "''''''''''''''''''''''''''''''''''''''''''''''''''''''''''''''''''''''''''''' ''\n",
        "Universidade Federal de Goiás/Uberlândia (Ufg/Ufu)\n",
        "\n",
        "Autor           : Carlos Eduardo da Silva Lima\n",
        "Cálculo Numérico: Método da iterativo Linear (MIL)\n",
        "Diciplina       : Física Computacional e Cálculo Numérico\n",
        "Data            : 23/07/2021  \n",
        "Linguagem       : Python\n",
        "IDE             : Google Colaboratory   \n",
        "''''''''''''''''''''''''''''''''''''''''''''''''''''''''''''''''''''''''''''' ''\n",
        "print(\"\\n\\t\\t ***************** Método da iterativo Linear ***************** \\n\")\n",
        "\n",
        "# Inportando bibliotecas externa\n",
        "import numpy as np\n",
        "import matplotlib.pyplot as plt\n",
        "import math as m\n",
        "plt.style.use('dark_background')\n",
        "\n",
        "\n",
        "# Entre com a fução phi(x), tal que x = phi(x).\n",
        "def phi(x):\n",
        "  return ( np.cos(x) )\n",
        "\n",
        "\n",
        "# Algoritimo para o Método da iterativo Linear (MIL)\n",
        "\n",
        "N   = 100 # numero de iterações\n",
        "x   = np.empty(N) # Variável x\n",
        "er  = np.empty(N) # Erro relativo\n",
        "\n",
        "# Dados de entrada pelo usuário, insira o chute inicial e prescisão estimada\n",
        "x[0] = 1 # Chute inicial, insira o ponto de partida para o loop nesta parte.\n",
        "eps  = 1*pow(10,-9) # Prescisão estimada\n",
        "\n",
        "for i in range(N-1):\n",
        "\n",
        "  x[i+1] = phi(x[i]) # x{k+1} = phi(x{k})\n",
        "  er[i]  = np.abs(x[i+1] - x[i])/np.abs(x[i]) # Erro relativo\n",
        "\n",
        "  if er[i] < eps:\n",
        "\n",
        "    print(\"(\",i,\")\",\"  x = \",x[i],\" || er = \",er[i],\" || f(x) = x - phi(x) = \",(x[i] - phi(x[i])))\n",
        "    break\n",
        "\n",
        "  #Fim do if\n",
        "  \n",
        "#fim do while"
      ],
      "execution_count": null,
      "outputs": [
        {
          "output_type": "stream",
          "text": [
            "\n",
            "\t\t ***************** Método da iterativo Linear ***************** \n",
            "\n",
            "( 52 )   x =  0.7390851335357372  || er =  7.259256118419644e-10  || f(x) = x - phi(x) =  5.3652082776523e-10\n"
          ],
          "name": "stdout"
        }
      ]
    }
  ]
}