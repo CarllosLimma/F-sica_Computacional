{
  "nbformat": 4,
  "nbformat_minor": 0,
  "metadata": {
    "colab": {
      "name": "MetododaSecante.ipynb",
      "provenance": [],
      "collapsed_sections": [],
      "authorship_tag": "ABX9TyMAVixVwshHsks14rgmBBoB",
      "include_colab_link": true
    },
    "kernelspec": {
      "name": "python3",
      "display_name": "Python 3"
    },
    "language_info": {
      "name": "python"
    }
  },
  "cells": [
    {
      "cell_type": "markdown",
      "metadata": {
        "id": "view-in-github",
        "colab_type": "text"
      },
      "source": [
        "<a href=\"https://colab.research.google.com/github/CarllosLimma/F-sica_Computacional/blob/main/MetododaSecante.ipynb\" target=\"_parent\"><img src=\"https://colab.research.google.com/assets/colab-badge.svg\" alt=\"Open In Colab\"/></a>"
      ]
    },
    {
      "cell_type": "code",
      "metadata": {
        "colab": {
          "base_uri": "https://localhost:8080/"
        },
        "id": "mDW0cH-JIbna",
        "outputId": "26cc8c89-f8c8-498d-efb0-8a85742723a3"
      },
      "source": [
        "''''''''''''''''''''''''''''''''''''''''''''''''''''''''''''''''''''''''''''' ''\n",
        "Universidade Federal de Goiás (Ufg)\n",
        "Autor           : Carlos Eduardo da Silva Lima\n",
        "Cálculo Numérico: Método da Secante\n",
        "Diciplina       : Física Computacional e Cálculo Numérico\n",
        "Data            : 23/07/2021  \n",
        "Linguagem       : Python\n",
        "IDE             : Google Colaboratory   \n",
        "''''''''''''''''''''''''''''''''''''''''''''''''''''''''''''''''''''''''''''' ''\n",
        "\n",
        "print(\"\\n\\n\\t\\t************ Método da Secante ************ \\n\\n\")\n",
        "\n",
        "# Inportando bibliotecas externa\n",
        "import numpy as np\n",
        "import matplotlib.pyplot as plt\n",
        "import math as m\n",
        "plt.style.use('dark_background')\n",
        "\n",
        "\n",
        "# Entre com x0 , x1  e tolerância eps\n",
        "x0  = 1\n",
        "x1  = 2\n",
        "eps = 1*m.pow(10,-4)\n",
        "\n",
        "''''''''''''''''''''''''''''''''''''''''''''''''''''''''''''''''''''''''''''' ''\n",
        "''''''''''''''''''''''''''''''''''''''''''''''''''''''''''''''''''''''''''''' ''\n",
        "#               Entre com as funções f(x) \n",
        "\n",
        "# Função f(x)\n",
        "def f(x):\n",
        "  return ( np.sqrt(x) - 5*np.exp(-x) )\n",
        "\n",
        "\n",
        "''''''''''''''''''''''''''''''''''''''''''''''''''''''''''''''''''''''''''''' ''\n",
        "''''''''''''''''''''''''''''''''''''''''''''''''''''''''''''''''''''''''''''' ''\n",
        "#               Algoritimo para o método de Newton\n",
        "\n",
        "xk = ((x0*f(x1) - x1*f(x0))/(f(x1) - f(x0)))\n",
        "er = np.abs(xk - x0)/np.abs(xk)\n",
        "\n",
        "k = 0\n",
        "while er > eps:\n",
        "\n",
        "  xk = ((x0*f(x1) - x1*f(x0))/(f(x1) - f(x0)))\n",
        "  er = np.abs(xk - x0)/np.abs(xk)\n",
        "  x0 = xk\n",
        "\n",
        "  k = k + 1 # Contador para as iterações\n",
        "\n",
        "  # Saída\n",
        "  print(\"(\",k,\")\",\" x = \",xk,\" || er = \",er)\n",
        "\n",
        "#Fim do While\n"
      ],
      "execution_count": null,
      "outputs": [
        {
          "output_type": "stream",
          "text": [
            "\n",
            "\n",
            "\t\t************ Método da Secante ************ \n",
            "\n",
            "\n",
            "( 1 )  x =  1.5322968611644934  || er =  0.34738494521222596\n",
            "( 2 )  x =  1.4051298101161767  || er =  0.09050199499916843\n",
            "( 3 )  x =  1.4366703451215823  || er =  0.021953912470251795\n",
            "( 4 )  x =  1.4289100808293114  || er =  0.005430897574581489\n",
            "( 5 )  x =  1.4308233362576512  || er =  0.0013371709699284233\n",
            "( 6 )  x =  1.4303518683459595  || er =  0.0003296167342633842\n",
            "( 7 )  x =  1.4304680626872173  || er =  8.122819676203072e-05\n"
          ],
          "name": "stdout"
        }
      ]
    }
  ]
}