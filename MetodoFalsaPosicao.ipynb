{
  "nbformat": 4,
  "nbformat_minor": 0,
  "metadata": {
    "colab": {
      "name": "MetodoFalsaPosicao.ipynb",
      "provenance": [],
      "collapsed_sections": [],
      "authorship_tag": "ABX9TyPqP7fBnjK1PECOcoowrPlY",
      "include_colab_link": true
    },
    "kernelspec": {
      "name": "python3",
      "display_name": "Python 3"
    },
    "language_info": {
      "name": "python"
    }
  },
  "cells": [
    {
      "cell_type": "markdown",
      "metadata": {
        "id": "view-in-github",
        "colab_type": "text"
      },
      "source": [
        "<a href=\"https://colab.research.google.com/github/CarllosLimma/F-sica_Computacional/blob/main/MetodoFalsaPosicao.ipynb\" target=\"_parent\"><img src=\"https://colab.research.google.com/assets/colab-badge.svg\" alt=\"Open In Colab\"/></a>"
      ]
    },
    {
      "cell_type": "code",
      "metadata": {
        "colab": {
          "base_uri": "https://localhost:8080/"
        },
        "id": "i5yuke-MSc_W",
        "outputId": "cd11146f-816c-4010-e859-d514bcc9c51b"
      },
      "source": [
        "''''''''''''''''''''''''''''''''''''''''''''''''''''''''''''''''''''''''''''' ''\n",
        "Universidade Federal de Goiás/Uberlândia (Ufg/Ufu)\n",
        "\n",
        "Autor           : Carlos Eduardo da Silva Lima\n",
        "Cálculo Numérico: Método da falsa Posição\n",
        "Diciplina       : Física Computacional e Cálculo Numérico\n",
        "Data            : 23/07/2021  \n",
        "Linguagem       : Python\n",
        "IDE             : Google Colaboratory   \n",
        "''''''''''''''''''''''''''''''''''''''''''''''''''''''''''''''''''''''''''''' ''\n",
        "print(\"\\n\\t\\t\\t ***************** Metodo da Falsa Posição ***************** \\n\")\n",
        "\n",
        "# Inportando bibliotecas externa\n",
        "import numpy as np\n",
        "import matplotlib.pyplot as plt\n",
        "plt.style.use('dark_background')\n",
        "\n",
        "'''\n",
        "OBS: a e b são, respectivamente, o ponto inicial e o ponto final do intervalo, f(x) é a\n",
        "função definida e epsilon é a precisão fornecida.\n",
        "'''\n",
        "a = 0\n",
        "b = 1\n",
        "epsilon = 0.01\n",
        "\n",
        "# Função f(x)\n",
        "def f(x):\n",
        "  return (x - np.cos(x))\n",
        "\n",
        "if f(a)*f(b) < 0:\n",
        "  \n",
        "  x = ((a*f(b) - b*f(a))/(f(b) - f(a)))\n",
        "\n",
        "  while np.abs((b-a)/b) > epsilon:\n",
        "\n",
        "    if f(a)*f(b) < 0:\n",
        "      a = x\n",
        "    else:\n",
        "      b = x\n",
        "    \n",
        "    x = (a*f(b) - b*f(a))/(f(b) - f(a))\n",
        "    print(\"x = \",x,\"    || Erro = \",np.abs(b-a),\"    || Erro Relativo = \",(np.abs(b-a)/np.abs(b)))\n",
        "  #Fim \n",
        "#Fim\n",
        "\n",
        "else:\n",
        "  print(\"Não existe raiz neste intervalo a e b, pis f(a)f(b)>0, escolha outro que contenha a raiz.\")"
      ],
      "execution_count": null,
      "outputs": [
        {
          "output_type": "stream",
          "text": [
            "\n",
            "\t\t\t ***************** Metodo da Falsa Posição ***************** \n",
            "\n",
            "x =  0.736298997613654     || Erro =  0.31492664267395487     || Erro Relativo =  0.31492664267395487\n",
            "x =  0.7389453559657132     || Erro =  0.263701002386346     || Erro Relativo =  0.263701002386346\n",
            "x =  0.7390781308800257     || Erro =  0.2610546440342868     || Erro Relativo =  0.2610546440342868\n",
            "x =  0.7390847824489231     || Erro =  0.2609218691199743     || Erro Relativo =  0.2609218691199743\n",
            "x =  0.7390851156443783     || Erro =  0.26091521755107694     || Erro Relativo =  0.26091521755107694\n",
            "x =  0.7390851323349952     || Erro =  0.2609148843556217     || Erro Relativo =  0.2609148843556217\n",
            "x =  0.7390851331710708     || Erro =  0.2609148676650048     || Erro Relativo =  0.2609148676650048\n",
            "x =  0.7390851332129521     || Erro =  0.26091486682892917     || Erro Relativo =  0.26091486682892917\n",
            "x =  0.73908513321505     || Erro =  0.2609148667870479     || Erro Relativo =  0.2609148667870479\n",
            "x =  0.7390851332151551     || Erro =  0.26091486678495     || Erro Relativo =  0.26091486678495\n",
            "x =  0.7390851332151605     || Erro =  0.2609148667848449     || Erro Relativo =  0.2609148667848449\n",
            "x =  0.7390851332151607     || Erro =  0.26091486678483955     || Erro Relativo =  0.26091486678483955\n",
            "x =  0.7390851332151607     || Erro =  0.2609148667848393     || Erro Relativo =  0.2609148667848393\n",
            "x =  nan     || Erro =  0.0     || Erro Relativo =  0.0\n"
          ],
          "name": "stdout"
        },
        {
          "output_type": "stream",
          "text": [
            "/usr/local/lib/python3.7/dist-packages/ipykernel_launcher.py:41: RuntimeWarning: invalid value encountered in double_scalars\n"
          ],
          "name": "stderr"
        }
      ]
    }
  ]
}