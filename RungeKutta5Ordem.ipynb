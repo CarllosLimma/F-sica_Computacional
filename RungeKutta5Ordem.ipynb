{
  "nbformat": 4,
  "nbformat_minor": 0,
  "metadata": {
    "colab": {
      "name": "RungeKutta5Ordem.ipynb",
      "provenance": [],
      "collapsed_sections": [],
      "authorship_tag": "ABX9TyNeBOg8FcSk0efAQDYSTeZH",
      "include_colab_link": true
    },
    "kernelspec": {
      "name": "python3",
      "display_name": "Python 3"
    },
    "language_info": {
      "name": "python"
    }
  },
  "cells": [
    {
      "cell_type": "markdown",
      "metadata": {
        "id": "view-in-github",
        "colab_type": "text"
      },
      "source": [
        "<a href=\"https://colab.research.google.com/github/CarllosLimma/F-sica_Computacional/blob/main/RungeKutta5Ordem.ipynb\" target=\"_parent\"><img src=\"https://colab.research.google.com/assets/colab-badge.svg\" alt=\"Open In Colab\"/></a>"
      ]
    },
    {
      "cell_type": "code",
      "metadata": {
        "id": "Z3pNlvx-KLtX"
      },
      "source": [
        "#---------------------------------------------------------------------------------------------------------\n",
        "#---------------------------------------------------------------------------------------------------------\n",
        "#                              Universidade Federal de Goiás (Ufg)\n",
        "#\n",
        "# Autor           : Carlos Eduardo da Silva Lima\n",
        "# Cálculo Numérico: 25.3.4 Métodos de Runge-Kutta de Ordem Superior \n",
        "# Livro           : Métodos Numéricos para Engenharia página 610/628 Chapman\n",
        "# Diciplina       : Física Computacional e Cálculo Numérico\n",
        "# Data            : 24/07/2021\n",
        "# Linguagem       : Python\n",
        "# IDE             : Google Colaboratory\n",
        "#---------------------------------------------------------------------------------------------------------\n",
        "#---------------------------------------------------------------------------------------------------------\n",
        "\n",
        "# Inportando bibliotecas externa\n",
        "import numpy as np\n",
        "import matplotlib.pyplot as plt\n",
        "import math as m\n",
        "\n",
        "#---------------------------------------------------------------------------------------------------------\n",
        "plt.style.use('dark_background')\n",
        "#---------------------------------------------------------------------------------------------------------\n",
        "# Parâmetros e condições iniciais\n",
        "\n",
        "x0 = 0 \n",
        "y0 = 2 # y(x = x0)\n",
        "h  = 0.1 # Passo\n",
        "N  = 1000 # Quantidade de iterações\n",
        "\n",
        "#---------------------------------------------------------------------------------------------------------\n",
        "# EDO\n",
        "\n",
        "def f(x,y):\n",
        "  return ( -np.cos(10*x)*np.cos(5*x)*np.exp(-0.01*x*y*y) ) # Insira a expressão para a EDO, f(x,y) = dy(x)/dx\n",
        "\n",
        "#---------------------------------------------------------------------------------------------------------\n",
        "# Arrays\n",
        "\n",
        "x = np.empty(N)  # Varável indepedente\n",
        "y = np.empty(N)  # Variável depedente\n",
        "\n",
        "# Inicialização dos arrys com as condições iniciais\n",
        "x[0] = x0\n",
        "y[0] = y0\n",
        "\n",
        "#---------------------------------------------------------------------------------------------------------\n",
        "# Algoritimo de Runge-Kutta de 5Ordem\n",
        "\n",
        "for i in range(N-1):\n",
        "\n",
        "  k1 = f(x[i],y[i])\n",
        "  k2 = f(x[i] + (h/4), y[i] + (k1*h/4))\n",
        "  k3 = f(x[i] + (h/4), y[i] + (k1*h/8) + (k2*h/8))\n",
        "  k4 = f(x[i] + (h/2), y[i] - (k2*h/2) + k3*h)\n",
        "  k5 = f(x[i] + (3*h/4), y[i] + (3*k1*h/16) + (9*k4*h/16))\n",
        "  k6 = f(x[i] + h, y[i] - (3*k1*h/7) + (2*k2*h/7) + (12*k3*h/7) - (12*k4*h/7) + (8*k5*h/7))\n",
        "\n",
        "  y[i+1] = y[i] + ((h*(7*k1 + 32*k3 + 12*k4 + 32*k5 + 7*k6))/90) \n",
        "  x[i+1] = x[i] + h\n",
        "\n",
        "  # Saída\n",
        "  print(\"x = \",x[i],\" || y = \",y[i])\n",
        "\n",
        "\n",
        "# Plotagem do Gráfico\n",
        "plt.figure(figsize = (7,7))\n",
        "plt.plot(x,y,'-', color='red', alpha = 2, markersize=5)\n",
        "plt.xlabel(\"x\")\n",
        "plt.ylabel(\"y\")\n",
        "plt.title(\"Runge-Kutta de 5Ordem\")"
      ],
      "execution_count": null,
      "outputs": []
    }
  ]
}