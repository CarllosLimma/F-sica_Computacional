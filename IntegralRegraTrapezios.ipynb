{
  "nbformat": 4,
  "nbformat_minor": 0,
  "metadata": {
    "colab": {
      "name": "IntegralRegraTrapezios.ipynb",
      "provenance": [],
      "collapsed_sections": [],
      "authorship_tag": "ABX9TyPpS2GzyNW09ZQobMaymSZ2",
      "include_colab_link": true
    },
    "kernelspec": {
      "name": "python3",
      "display_name": "Python 3"
    },
    "language_info": {
      "name": "python"
    }
  },
  "cells": [
    {
      "cell_type": "markdown",
      "metadata": {
        "id": "view-in-github",
        "colab_type": "text"
      },
      "source": [
        "<a href=\"https://colab.research.google.com/github/CarllosLimma/F-sica_Computacional/blob/main/IntegralRegraTrapezios.ipynb\" target=\"_parent\"><img src=\"https://colab.research.google.com/assets/colab-badge.svg\" alt=\"Open In Colab\"/></a>"
      ]
    },
    {
      "cell_type": "code",
      "metadata": {
        "colab": {
          "base_uri": "https://localhost:8080/"
        },
        "id": "6zeHexAUPsrE",
        "outputId": "9da82097-232e-462b-db75-894b90712430"
      },
      "source": [
        "''' \n",
        "*************************************************************************************************\n",
        "Universidade Federal de Goiás (Ufg)\n",
        "Autor           : Carlos Eduardo da Silva Lima\n",
        "Cálculo Numérico: Método da regra os trapézios (Integração numérica)\n",
        "Diciplina       : Física Computacional e Cálculo Numérico\n",
        "Data            : 23/07/2021  \n",
        "Linguagem       : Python\n",
        "IDE             : Google Colaboratory\n",
        "*************************************************************************************************\n",
        "''' \n",
        "print(\"\\n\\t\\t ****************** Integral: Regra dos Trpézios ******************\\n\")\n",
        "\n",
        "# Inportando bibliotecas externa\n",
        "import numpy as np\n",
        "import matplotlib.pyplot as plt\n",
        "import math as m\n",
        "plt.style.use('dark_background')\n",
        "\n",
        "'''\n",
        "*************************************************************************************************\n",
        "*************************************************************************************************\n",
        "'''\n",
        "# Função a ter sua integral cálculada - Insira a expresão para a sua f(x)\n",
        "def f(x):\n",
        "  return ( 1/np.sqrt(np.power(x,x) + 5*x) ) \n",
        "\n",
        "'''\n",
        "*************************************************************************************************\n",
        "*************************************************************************************************\n",
        "'''\n",
        "# Entre com o limite inferior e superiorr de integração além da quantiae n de sub-intervalos\n",
        "\n",
        "x0 = 0 # Limite inferior de integração \n",
        "x1 = 1 # Limite superior de integração\n",
        "n = 1000 #  Quantidade de sub-intervalos \n",
        "\n",
        "'''\n",
        "*************************************************************************************************\n",
        "*************************************************************************************************\n",
        "'''\n",
        "\n",
        "if n == 0:\n",
        "  print(\"n não pode ser igual a 0 (n = 0)\")\n",
        "elif n < 0:\n",
        "  print(\"n não pode ser igual menor que 0 (n < 0), insira um valor de n diferente e maior que 0!\")\n",
        "else:\n",
        "\n",
        "  h = ((x1 - x0)/n)\n",
        "  x = x0 + h\n",
        "\n",
        "  soma = 0 # Contador para a soma \n",
        "  for i in range(n-1):\n",
        "    soma = soma + f(x)\n",
        "    x = x + h\n",
        "  #fim do for\n",
        "#Fim da sequencia if elif else\n",
        "\n",
        "# Resultado dsa integração numérica\n",
        "Integral = h*(((f(x0) + f(x1))/2) + soma) \n",
        "\n",
        "# Saída \n",
        "print(\"Integral = \",Integral)"
      ],
      "execution_count": null,
      "outputs": [
        {
          "output_type": "stream",
          "text": [
            "\n",
            "\t\t ****************** Integral: Regra dos Trpézios ******************\n",
            "\n",
            "Integral =  0.6070182219999191\n"
          ],
          "name": "stdout"
        }
      ]
    }
  ]
}