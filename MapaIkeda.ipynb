{
  "nbformat": 4,
  "nbformat_minor": 0,
  "metadata": {
    "colab": {
      "name": "MapaIkeda.ipynb",
      "provenance": [],
      "collapsed_sections": [],
      "authorship_tag": "ABX9TyPmxjdC3BFYD/2Hh3TaUGy3",
      "include_colab_link": true
    },
    "kernelspec": {
      "name": "python3",
      "display_name": "Python 3"
    },
    "language_info": {
      "name": "python"
    }
  },
  "cells": [
    {
      "cell_type": "markdown",
      "metadata": {
        "id": "view-in-github",
        "colab_type": "text"
      },
      "source": [
        "<a href=\"https://colab.research.google.com/github/CarllosLimma/F-sica_Computacional/blob/main/MapaIkeda.ipynb\" target=\"_parent\"><img src=\"https://colab.research.google.com/assets/colab-badge.svg\" alt=\"Open In Colab\"/></a>"
      ]
    },
    {
      "cell_type": "code",
      "metadata": {
        "id": "Zz0uXZSs_GJ7",
        "colab": {
          "base_uri": "https://localhost:8080/",
          "height": 295
        },
        "outputId": "d22209a7-0f18-47ef-83cc-db034ee48e89"
      },
      "source": [
        "'''\n",
        "Autor: Carlos Euaro a Silva Lima\n",
        "Disciplina: Física Computacional\n",
        "Tema: Mapa de Ikeda\n",
        "'''\n",
        "\n",
        "# Importando bibliotecas externa\n",
        "import numpy as np\n",
        "import matplotlib.pyplot as plt\n",
        "\n",
        "plt.style.use('dark_background')\n",
        "\n",
        "# Parâmetros para o mapa de Ikeda\n",
        "A = 0.4\n",
        "B = 6.0\n",
        "u0 = 0.65\n",
        "N = 50000\n",
        "\n",
        "# Arrays\n",
        "t = np.empty(N)\n",
        "x = np.empty(N)\n",
        "y = np.empty(N)\n",
        "u = np.empty(N)\n",
        "\n",
        "# Inicialização\n",
        "x[0] = 0\n",
        "y[0] = 0\n",
        "u[0] = u0\n",
        "\n",
        "for i in range(N-1):\n",
        "  u[i+1] = u[i] + (0.00000759)\n",
        "  #print(u[i])\n",
        "# Fim do looo for \n",
        "\n",
        "for i in range(N-1):\n",
        "\n",
        "  if u0 >= 0.6:\n",
        "    t[i] = A - (B/(1 + np.power(x[i],2) + np.power(y[i],2)))\n",
        "    x[i+1] = 1 + u[i]*(x[i]*np.cos(t[i]) - y[i]*np.sin(t[i]))\n",
        "    y[i+1] = 0 + u[i]*(x[i]*np.sin(t[i]) + y[i]*np.cos(t[i]))\n",
        "    # Saída de Dados\n",
        "    #print(\"t = \",t[i],\" || x = \",x[i],\" || y = \",y[i])\n",
        "\n",
        "  elif u0 < 0.6:\n",
        "    print(\"Entre com um valor de u0 >= 0.6!, Observe a teoria oara o mapa de Ideki\")\n",
        "    break\n",
        "\n",
        "#Fim do loop for\n",
        "\n",
        "if u0 >= 0.6:\n",
        "  # Plotagem do Gráfico\n",
        "  plt.plot(x,y,\".r\")\n",
        "  plt.title(\"Mapa de Ikeda\")\n",
        "  plt.xlabel(\"x\")\n",
        "  plt.ylabel(\"y\")\n",
        "  plt.show()\n"
      ],
      "execution_count": 1,
      "outputs": [
        {
          "output_type": "display_data",
          "data": {
            "image/png": "[encoded data removed]",
            "text/plain": [
              "<Figure size 432x288 with 1 Axes>"
            ]
          },
          "metadata": {
            "tags": []
          }
        }
      ]
    },
    {
      "cell_type": "code",
      "metadata": {
        "id": "Buu5zXXkDli4"
      },
      "source": [
        ""
      ],
      "execution_count": null,
      "outputs": []
    }
  ]
}