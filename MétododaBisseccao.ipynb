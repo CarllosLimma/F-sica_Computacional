{
  "nbformat": 4,
  "nbformat_minor": 0,
  "metadata": {
    "colab": {
      "name": "MétododaBisseccao.ipynb",
      "provenance": [],
      "collapsed_sections": [],
      "authorship_tag": "ABX9TyN5mVAwtvNYEwgsVlXXETbV",
      "include_colab_link": true
    },
    "kernelspec": {
      "name": "python3",
      "display_name": "Python 3"
    },
    "language_info": {
      "name": "python"
    }
  },
  "cells": [
    {
      "cell_type": "markdown",
      "metadata": {
        "id": "view-in-github",
        "colab_type": "text"
      },
      "source": [
        "<a href=\"https://colab.research.google.com/github/CarllosLimma/F-sica_Computacional/blob/main/M%C3%A9tododaBisseccao.ipynb\" target=\"_parent\"><img src=\"https://colab.research.google.com/assets/colab-badge.svg\" alt=\"Open In Colab\"/></a>"
      ]
    },
    {
      "cell_type": "code",
      "metadata": {
        "colab": {
          "base_uri": "https://localhost:8080/"
        },
        "id": "6Jo0-OGzr6pT",
        "outputId": "33edfac2-0e71-4675-9df7-a802ead31ada"
      },
      "source": [
        "''''''''''''''''''''''''''''''''''''''''''''''''''''''''''''''''''''''''''''' ''\n",
        "Universidade Federal de Goiás/Uberlândia (Ufg/Ufu)\n",
        "\n",
        "Autor           : Carlos Eduardo da Silva Lima\n",
        "Cálculo Numérico: Método da Bissecção\n",
        "Diciplina       : Física Computacional e Cálculo Numérico\n",
        "Data            : 23/07/2021  \n",
        "Linguagem       : Python\n",
        "IDE             : Google Colaboratory   \n",
        "''''''''''''''''''''''''''''''''''''''''''''''''''''''''''''''''''''''''''''' ''\n",
        "print(\"\\n\\t\\t\\t ***************** Método da Bissecção ***************** \\n\")\n",
        "\n",
        "# Inportando bibliotecas externa\n",
        "import numpy as np\n",
        "import matplotlib.pyplot as plt\n",
        "import math as m\n",
        "plt.style.use('dark_background')\n",
        "\n",
        "'''\n",
        "OBS: a e b são, respectivamente, o ponto inicial e o ponto final do intervalo I = [a,b], \n",
        "f(x) é a função definida e epsilon é a precisão fornecida.\n",
        "'''\n",
        "a = 0\n",
        "b = 1\n",
        "epsilon = 1*m.pow(10,-6)\n",
        "\n",
        "# Função f(x)\n",
        "def f(x):\n",
        "  return (x - np.cos(x))\n",
        "\n",
        "while np.abs(b-a) > epsilon:\n",
        "\n",
        "  xr = (0.5)*(a+b)\n",
        "  erro = np.abs(b-a)\n",
        "  erroRelativo = np.abs(b-a)/np.abs(b)\n",
        "\n",
        "  if f(a)*f(xr) < 0:\n",
        "\n",
        "    b = xr # xr passer atribuido a b, onde I = [a,b=xr]\n",
        "\n",
        "  else:\n",
        "\n",
        "    a = xr # xr passer atribuido a a, onde I = [a = xr,b]\n",
        "    \n",
        "  #Fim\n",
        "\n",
        "  # Saida dos resultadsos\n",
        "  #print(\" xr = \",xr,\" || Erro = \",erro,\" || Erro Relativo = \",erroRelativo)\n",
        "#Fim\n",
        "\n",
        "# Saida dos resultadsos\n",
        "xr = (0.5)*(a+2)\n",
        "print(\" xr = \",xr,\" || Erro = \",erro,\" || Erro Relativo = \",erroRelativo)\n"
      ],
      "execution_count": null,
      "outputs": [
        {
          "output_type": "stream",
          "text": [
            "\n",
            "\t\t\t ***************** Método da Bissecção ***************** \n",
            "\n",
            " xr =  1.369542121887207  || Erro =  1.9073486328125e-06  || Erro Relativo =  2.5806851202857334e-06\n"
          ],
          "name": "stdout"
        }
      ]
    }
  ]
}